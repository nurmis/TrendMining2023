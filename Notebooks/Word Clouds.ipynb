{
 "cells": [
  {
   "cell_type": "markdown",
   "id": "1ae865b1",
   "metadata": {},
   "source": [
    "# Trend Mining"
   ]
  },
  {
   "cell_type": "markdown",
   "id": "1410fccc",
   "metadata": {},
   "source": [
    "## Word Clouds\n",
    "\n",
    "In this notebook you will be able to generate word clouds for **Reddit**, **Scopus**, and **Stackoverflow**. \n",
    "- Configurations for this notebook can be found in **WordClouds.yaml** file inside the **Config** folder\n",
    "- Make sure you follow the setup instructions on **Readme.md** and have installed all the packages required for this task"
   ]
  },
  {
   "cell_type": "markdown",
   "id": "dfe3368e",
   "metadata": {},
   "source": [
    "### Load Packages"
   ]
  },
  {
   "cell_type": "code",
   "execution_count": null,
   "id": "310c1752",
   "metadata": {
    "scrolled": true
   },
   "outputs": [],
   "source": [
    "import os\n",
    "import yaml\n",
    "import warnings\n",
    "import pandas as pd\n",
    "from yaspin import yaspin\n",
    "import matplotlib.pyplot as plt\n",
    "from wordcloud import WordCloud\n",
    "from yaml.loader import SafeLoader"
   ]
  },
  {
   "cell_type": "markdown",
   "id": "048bed4c",
   "metadata": {},
   "source": [
    "### Load Config file"
   ]
  },
  {
   "cell_type": "code",
   "execution_count": null,
   "id": "8b87dd20",
   "metadata": {
    "scrolled": true
   },
   "outputs": [],
   "source": [
    "with open('../Config/Miners.yaml') as f:\n",
    "    config = yaml.load(f, Loader=SafeLoader)\n",
    "print('General Config:', config)"
   ]
  },
  {
   "cell_type": "code",
   "execution_count": null,
   "id": "77b92f3a",
   "metadata": {
    "scrolled": true
   },
   "outputs": [],
   "source": [
    "with open('../Config/WordClouds.yaml') as f:\n",
    "    wordCloudConfig = yaml.load(f, Loader=SafeLoader)\n",
    "print('Word cloud Config:', wordCloudConfig)"
   ]
  },
  {
   "cell_type": "markdown",
   "id": "d8bb3281",
   "metadata": {},
   "source": [
    "### Common Functions and Class"
   ]
  },
  {
   "cell_type": "code",
   "execution_count": null,
   "id": "ffaa201d",
   "metadata": {
    "scrolled": true
   },
   "outputs": [],
   "source": [
    "def readFile(file, path):\n",
    "    try:\n",
    "        spinner = yaspin()\n",
    "        complete_path = f'{os.path.dirname(os.path.abspath(os.getcwd()))}\\\\{path}\\\\{file}'\n",
    "        file_data = pd.read_csv(complete_path, index_col=0)\n",
    "        spinner.write(\"✔️ File loaded.\")\n",
    "        spinner.stop()\n",
    "        return file_data\n",
    "    except Exception as e:\n",
    "        print('Error reading file',e)"
   ]
  },
  {
   "cell_type": "markdown",
   "id": "1b3f43f7",
   "metadata": {},
   "source": [
    "#### Common class"
   ]
  },
  {
   "cell_type": "code",
   "execution_count": null,
   "id": "c905f0d8",
   "metadata": {
    "scrolled": true
   },
   "outputs": [],
   "source": [
    "class WordCloudGenerator():\n",
    "    \"\"\"This is the class implementation to generate word clouds\n",
    "    \"\"\"\n",
    "    def __init__(self, data_frame):\n",
    "        self.data_frame = data_frame \n",
    "        self.dirName = \"\"\n",
    "        self.spinner = yaspin()\n",
    "\n",
    "    def createOutputDir(self, dirName):\n",
    "        \"\"\"This function creates the folder to store the output graphs and images\n",
    "\n",
    "        Args:\n",
    "            dirName (str): Name of the output folder\n",
    "        \"\"\"\n",
    "        self.dirName = dirName\n",
    "        complete_path = f\"{os.path.dirname(os.path.abspath(os.getcwd()))}\\\\{config['OUTPUT_PATH']}\\\\WordClouds\\\\{self.dirName}\"\n",
    "        does_folder_exist = os.path.exists(complete_path)\n",
    "        if (does_folder_exist):\n",
    "            self.spinner.write(\"✔️ Output directory already exists.\")\n",
    "        else:\n",
    "            os.makedirs(complete_path)\n",
    "            self.spinner.write(\"✔️ Folder created for output storage\")\n",
    "            \n",
    "\n",
    "    def make_word_clouds(self, column, max_words=50, scale=2):\n",
    "        \"\"\"This function generates the word cloud\n",
    "\n",
    "        Args:\n",
    "            column (str): Column in the data frame for which word cloud need to be generated\n",
    "            max_words (int, optional): Maximum number of words in the cloud. Defaults to 50.\n",
    "            scale (int, optional): The scale of the cloud. Defaults to 2.\n",
    "        \"\"\"\n",
    "        strings  = ' '.join(self.data_frame[column])\n",
    "        wordcloud = WordCloud(scale=2, max_words=50, background_color=\"white\").generate(strings)\n",
    "        plt.figure(figsize = (20, 20))\n",
    "        plt.imshow(wordcloud)\n",
    "        plt.axis(\"off\")\n",
    "        complete_path = f\"{os.path.dirname(os.path.abspath(os.getcwd()))}\\\\{config['OUTPUT_PATH']}\\\\WordClouds\\\\{self.dirName}\"\n",
    "        plt.savefig(os.path.join(complete_path, f\"{self.dirName}_word_cloud.png\"))\n",
    "        self.spinner.write(f'✔️ Figure saved')\n",
    "        plt.show()\n",
    "\n",
    "\n",
    "    def date_based_comparasion_cloud(self):\n",
    "        \"\"\"This function is used to generate the date based comparison cloud for titles\n",
    "        \"\"\"\n",
    "        mid_date = self.data_frame['Date'].astype('datetime64[ns]').quantile(0.5, interpolation=\"midpoint\")\n",
    "        new_titles = self.data_frame[(self.data_frame['Date']).astype('datetime64[ns]') >= mid_date]\n",
    "        old_titles = self.data_frame[(self.data_frame['Date']).astype('datetime64[ns]') <  mid_date] \n",
    "        titles = [old_titles, new_titles] \n",
    "        self.spinner.write(f'Mid date: {mid_date}')\n",
    "        for i in range(len(titles)):  \n",
    "            try:\n",
    "                strings = ' '.join(titles[i]['Title_without_stopwords'])\n",
    "                wordcloud = WordCloud(scale=2, max_words=50, background_color=\"white\").generate(strings) \n",
    "                plt.subplot(2, 2, i+1)\n",
    "                plt.imshow(wordcloud, interpolation=\"bilinear\")\n",
    "                plt.axis(\"off\")\n",
    "                if i == 0:\n",
    "                    plt.title(f'Old Titles before or during {mid_date.date()}')\n",
    "                else:\n",
    "                    plt.title(f'New Titles after {mid_date.date()}')\n",
    "            except:\n",
    "                continue\n",
    "                \n",
    "        complete_path = f\"{os.path.dirname(os.path.abspath(os.getcwd()))}\\\\{config['OUTPUT_PATH']}\\\\WordClouds\\\\{self.dirName}\"  \n",
    "        plt.savefig(os.path.join(complete_path, f\"{self.dirName}_comparison_cloud.png\"))\n",
    "        self.spinner.write(f'✔️ Figure saved')\n",
    "        plt.show()    "
   ]
  },
  {
   "cell_type": "markdown",
   "id": "17bac8da",
   "metadata": {},
   "source": [
    "### Reddit"
   ]
  },
  {
   "cell_type": "code",
   "execution_count": null,
   "id": "7e1e9f22",
   "metadata": {
    "scrolled": true
   },
   "outputs": [],
   "source": [
    "reddit_data = readFile(config['REDDIT_DATA_CSV'], config['STORAGE_PATH'])"
   ]
  },
  {
   "cell_type": "code",
   "execution_count": null,
   "id": "3b6676a6",
   "metadata": {
    "scrolled": true
   },
   "outputs": [],
   "source": [
    "reddit_cloud = WordCloudGenerator(reddit_data)"
   ]
  },
  {
   "cell_type": "code",
   "execution_count": null,
   "id": "3f4296c1",
   "metadata": {
    "scrolled": true
   },
   "outputs": [],
   "source": [
    "reddit_cloud.createOutputDir('Reddit')"
   ]
  },
  {
   "cell_type": "code",
   "execution_count": null,
   "id": "f9d9e03b",
   "metadata": {
    "scrolled": true
   },
   "outputs": [],
   "source": [
    "reddit_cloud.make_word_clouds( wordCloudConfig['COLUMN_FOR_WORD_CLOUD'],\n",
    "                               max_words=wordCloudConfig['MAX_WORDS'],\n",
    "                               scale=wordCloudConfig['SCALE'])\n"
   ]
  },
  {
   "cell_type": "code",
   "execution_count": null,
   "id": "b36d14b3",
   "metadata": {
    "scrolled": true
   },
   "outputs": [],
   "source": [
    "reddit_cloud.date_based_comparasion_cloud()"
   ]
  },
  {
   "cell_type": "markdown",
   "id": "0c31757d",
   "metadata": {},
   "source": [
    "### Stackoverflow"
   ]
  },
  {
   "cell_type": "code",
   "execution_count": null,
   "id": "197bf227",
   "metadata": {
    "scrolled": true
   },
   "outputs": [],
   "source": [
    "stackoverflow_data = readFile(config['STACKOVERFLOW_DATA_CSV'], config['STORAGE_PATH'])"
   ]
  },
  {
   "cell_type": "code",
   "execution_count": null,
   "id": "ab8de4bc",
   "metadata": {
    "scrolled": true
   },
   "outputs": [],
   "source": [
    "stackoverflow_data = WordCloudGenerator(stackoverflow_data)"
   ]
  },
  {
   "cell_type": "code",
   "execution_count": null,
   "id": "71edf4ae",
   "metadata": {
    "scrolled": true
   },
   "outputs": [],
   "source": [
    "stackoverflow_data.createOutputDir('Stackoverflow')"
   ]
  },
  {
   "cell_type": "code",
   "execution_count": null,
   "id": "7601fb9d",
   "metadata": {
    "scrolled": true
   },
   "outputs": [],
   "source": [
    "stackoverflow_data.make_word_clouds( wordCloudConfig['COLUMN_FOR_WORD_CLOUD'],\n",
    "                               max_words=wordCloudConfig['MAX_WORDS'],\n",
    "                               scale=wordCloudConfig['SCALE'])"
   ]
  },
  {
   "cell_type": "code",
   "execution_count": null,
   "id": "43ad56d0",
   "metadata": {
    "scrolled": true
   },
   "outputs": [],
   "source": [
    "stackoverflow_data.date_based_comparasion_cloud()"
   ]
  },
  {
   "cell_type": "markdown",
   "id": "20b56e6e",
   "metadata": {},
   "source": [
    "### Scopus"
   ]
  },
  {
   "cell_type": "code",
   "execution_count": null,
   "id": "295a47e7",
   "metadata": {
    "scrolled": true
   },
   "outputs": [],
   "source": [
    "scopus_data = readFile(config['SCOPUS_DATA_CSV'], config['STORAGE_PATH'])"
   ]
  },
  {
   "cell_type": "code",
   "execution_count": null,
   "id": "fe711872",
   "metadata": {
    "scrolled": true
   },
   "outputs": [],
   "source": [
    "scopus_data = WordCloudGenerator(scopus_data)"
   ]
  },
  {
   "cell_type": "code",
   "execution_count": null,
   "id": "af11af67",
   "metadata": {
    "scrolled": true
   },
   "outputs": [],
   "source": [
    "scopus_data.createOutputDir('Scopus')"
   ]
  },
  {
   "cell_type": "code",
   "execution_count": null,
   "id": "a393c57f",
   "metadata": {
    "scrolled": true
   },
   "outputs": [],
   "source": [
    "scopus_data.make_word_clouds( wordCloudConfig['COLUMN_FOR_WORD_CLOUD'],\n",
    "                               max_words=wordCloudConfig['MAX_WORDS'],\n",
    "                               scale=wordCloudConfig['SCALE'])"
   ]
  },
  {
   "cell_type": "code",
   "execution_count": null,
   "id": "494ebdb3",
   "metadata": {
    "scrolled": true
   },
   "outputs": [],
   "source": [
    "scopus_data.date_based_comparasion_cloud()"
   ]
  }
 ],
 "metadata": {
  "kernelspec": {
   "display_name": "Python 3 (ipykernel)",
   "language": "python",
   "name": "python3"
  },
  "language_info": {
   "codemirror_mode": {
    "name": "ipython",
    "version": 3
   },
   "file_extension": ".py",
   "mimetype": "text/x-python",
   "name": "python",
   "nbconvert_exporter": "python",
   "pygments_lexer": "ipython3",
   "version": "3.8.13"
  }
 },
 "nbformat": 4,
 "nbformat_minor": 5
}
