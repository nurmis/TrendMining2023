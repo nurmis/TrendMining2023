{
 "cells": [
  {
   "cell_type": "markdown",
   "id": "b5cf40eb",
   "metadata": {},
   "source": [
    "# Trend Mining"
   ]
  },
  {
   "cell_type": "markdown",
   "id": "91a84c46",
   "metadata": {},
   "source": [
    "## Timeline and Popularity\n",
    "\n",
    "In this notebook you will be able to analyze timeline and popularity. \n",
    "- Configurations for this notebook can be found in **Timeline.yaml** file inside the **Config** folder\n",
    "- Make sure you follow the setup instructions on **Readme.md** and have installed all the packages required for this task"
   ]
  },
  {
   "cell_type": "code",
   "execution_count": null,
   "id": "f8adc8ff",
   "metadata": {},
   "outputs": [],
   "source": [
    "import os\n",
    "import yaml\n",
    "import warnings\n",
    "import pandas as pd\n",
    "import seaborn as sns\n",
    "from yaspin import yaspin\n",
    "import matplotlib.pyplot as plt\n",
    "from collections import Counter\n",
    "from scipy.stats import wilcoxon\n",
    "from yaml.loader import SafeLoader\n",
    "\n",
    "\n",
    "warnings.filterwarnings('ignore')"
   ]
  },
  {
   "cell_type": "markdown",
   "id": "22653505",
   "metadata": {},
   "source": [
    "### Load Config file"
   ]
  },
  {
   "cell_type": "code",
   "execution_count": null,
   "id": "c61456c0",
   "metadata": {},
   "outputs": [],
   "source": [
    "with open('../Config/Miners.yaml') as f:\n",
    "    config = yaml.load(f, Loader=SafeLoader)\n",
    "print('General Config:', config)"
   ]
  },
  {
   "cell_type": "code",
   "execution_count": null,
   "id": "dc6386ca",
   "metadata": {},
   "outputs": [],
   "source": [
    "with open('../Config/Timeline.yaml') as f:\n",
    "    dendogramConfig = yaml.load(f, Loader=SafeLoader)\n",
    "print('Tineline Config:', dendogramConfig)"
   ]
  },
  {
   "cell_type": "markdown",
   "id": "d754e777",
   "metadata": {},
   "source": [
    "### Common function and class"
   ]
  },
  {
   "cell_type": "code",
   "execution_count": null,
   "id": "ba36ad0b",
   "metadata": {},
   "outputs": [],
   "source": [
    "def readFile(file, path):\n",
    "    try:\n",
    "        spinner = yaspin()\n",
    "        complete_path = f'{os.path.dirname(os.path.abspath(os.getcwd()))}\\\\{path}\\\\{file}'\n",
    "        file_data = pd.read_csv(complete_path, index_col=0)\n",
    "        spinner.write(\"✔️ File loaded.\")\n",
    "        spinner.stop()\n",
    "        return file_data\n",
    "    except Exception as e:\n",
    "        print('Error reading file',e)"
   ]
  },
  {
   "cell_type": "markdown",
   "id": "c86a9b6c",
   "metadata": {},
   "source": [
    "#### Common class"
   ]
  },
  {
   "cell_type": "code",
   "execution_count": null,
   "id": "56184dd7",
   "metadata": {},
   "outputs": [],
   "source": [
    "class TimelineAndPopularity():\n",
    "    \"\"\"This is the class implementation for timeline and popularity\n",
    "    \"\"\"\n",
    "    def __init__(self, data_frame):\n",
    "        self.data_frame = data_frame \n",
    "        self.dirName = \"\"\n",
    "        self.spinner = yaspin()\n",
    "\n",
    "    def createOutputDir(self, dirName):\n",
    "        \"\"\"This function creates the folder to store the output graphs and images\n",
    "\n",
    "        Args:\n",
    "            dirName (str): Name of the output folder\n",
    "        \"\"\"\n",
    "        self.dirName = dirName\n",
    "        complete_path = f\"{os.path.dirname(os.path.abspath(os.getcwd()))}\\\\{config['OUTPUT_PATH']}\\\\Timeline\\\\{self.dirName}\"\n",
    "        does_folder_exist = os.path.exists(complete_path)\n",
    "        if (does_folder_exist):\n",
    "            self.spinner.write(\"✔️ Output directory already exists.\")\n",
    "        else:\n",
    "            os.makedirs(complete_path)\n",
    "            self.spinner.write(\"✔️ Folder created for output storage\")\n",
    "\n",
    "    def popularityByYears(self):\n",
    "        \"\"\"This function calculated the popularity over the years\n",
    "        \"\"\"\n",
    "        self.data_frame['Date'] = self.data_frame['Date'].apply(lambda x: pd.to_datetime(str(x), format='%Y-%m-%d', yearfirst=True)).dt.date\n",
    "        years = pd.DatetimeIndex(self.data_frame['Date']).year\n",
    "        year_count =  Counter(years)\n",
    "        print('Yearly distributions:', year_count)\n",
    "        sns.lineplot(data=year_count).set(title=f\"{self.dirName} yearly popularity\")\n",
    "        plt.xticks(rotation=90)\n",
    "        complete_path = f\"{os.path.dirname(os.path.abspath(os.getcwd()))}\\\\{config['OUTPUT_PATH']}\\\\Timeline\\\\{self.dirName}\"\n",
    "        plt.savefig(os.path.join(complete_path, f\"{self.dirName}_yearly_popularity.png\"))\n",
    "        self.spinner.write(f'✔️ Figure saved')\n",
    "\n",
    "    def dailyTrend(self):\n",
    "        \"\"\"This function calculates the daily trend\n",
    "        \"\"\"\n",
    "        days =  pd.to_datetime(self.data_frame['Date']).dt.date \n",
    "        days_count =  Counter(days) \n",
    "        sns.lineplot(data=days_count).set(title=f\"{self.dirName} daily trend\")\n",
    "        plt.xticks(rotation=90)\n",
    "        complete_path = f\"{os.path.dirname(os.path.abspath(os.getcwd()))}\\\\{config['OUTPUT_PATH']}\\\\Timeline\\\\{self.dirName}\"\n",
    "        plt.savefig(os.path.join(complete_path, f\"{self.dirName}_daily_trend.png\"))\n",
    "        plt.show()\n",
    "        self.spinner.write(f'✔️ Figure saved')\n",
    "\n",
    "    def citationAnalysis(self):\n",
    "        \"\"\"This function calculates boxplot for the citations \n",
    "        \"\"\"\n",
    "        citations = self.data_frame['Cites']\n",
    "        sns.boxplot(citations, orient='h').set(title=f\"{self.dirName} citation boxPlot\")\n",
    "        complete_path = f\"{os.path.dirname(os.path.abspath(os.getcwd()))}\\\\{config['OUTPUT_PATH']}\\\\Timeline\\\\{self.dirName}\"\n",
    "        plt.savefig(os.path.join(complete_path, f\"{self.dirName}_citation_boxPlot.png\"))\n",
    "        plt.show()\n",
    "        self.spinner.write(f'✔️ Figure saved')\n",
    "    \n",
    "    def citationSummary(self):\n",
    "        \"\"\"This function calculates statistical summary for citations\n",
    "        \"\"\"\n",
    "        citations = self.data_frame['Cites']\n",
    "        print('Citation Summary:')\n",
    "        print(citations.describe())\n",
    "\n",
    "    def citationViolinPlot(self):\n",
    "        \"\"\"This function calculates the violin plot for citations\n",
    "        \"\"\"\n",
    "        citations = self.data_frame['Cites']\n",
    "        sns.violinplot(x=citations).set(title=f\"{self.dirName} citation violinPlot\")\n",
    "        complete_path = f\"{os.path.dirname(os.path.abspath(os.getcwd()))}\\\\{config['OUTPUT_PATH']}\\\\Timeline\\\\{self.dirName}\"\n",
    "        plt.savefig(os.path.join(complete_path, f\"{self.dirName}_citation_violinPlot.png\"))\n",
    "        plt.show()\n",
    "        self.spinner.write(f'✔️ Figure saved')\n",
    "    \n",
    "    def plotOldvsNewCitations(self):\n",
    "        \"\"\"This function calculated old and new citations based on median of date\n",
    "        \"\"\"\n",
    "        mid_date = self.data_frame['Date'].astype('datetime64[ns]').quantile(0.5, interpolation=\"midpoint\")\n",
    "        new_data = self.data_frame[self.data_frame['Date']>= mid_date]\n",
    "        old_data = self.data_frame[self.data_frame['Date'] < mid_date]\n",
    "        print('Median date is:',mid_date)    \n",
    "       \n",
    "        # Box plots\n",
    "        fig, axes = plt.subplots(1, 2)\n",
    "        sns.boxplot(old_data['Cites'],  ax=axes[0])\n",
    "        axes[0].set_title(\"Old Data\")\n",
    "        sns.boxplot(new_data['Cites'],  ax=axes[1])\n",
    "        axes[1].set_title(\"New Data\")\n",
    "        complete_path = f\"{os.path.dirname(os.path.abspath(os.getcwd()))}\\\\{config['OUTPUT_PATH']}\\\\Timeline\\\\{self.dirName}\"\n",
    "        plt.savefig(os.path.join(complete_path, f\"{self.dirName}_oldVSnew_boxPlot.png\"))\n",
    "        self.spinner.write(f'✔️ Figure saved')\n",
    "\n",
    "        # Voilen plots\n",
    "        fig, axes = plt.subplots(1, 2)\n",
    "        sns.violinplot(old_data['Cites'],  ax=axes[0])\n",
    "        axes[0].set_title(\"Old Data\")\n",
    "        sns.violinplot(new_data['Cites'],  ax=axes[1])\n",
    "        axes[1].set_title(\"New Data\")\n",
    "        plt.savefig(os.path.join(complete_path, f\"{self.dirName}_oldVSnew_violinPlot.png\"))\n",
    "        plt.show()\n",
    "        self.spinner.write(f'✔️ Figure saved')\n",
    "\n",
    "\n",
    "        # Summary of old and new\n",
    "        print(\"Old Data Summary\")\n",
    "        print(old_data['Cites'].describe())\n",
    "        print(\"New Data Summary\")\n",
    "        print(new_data['Cites'].describe())\n",
    "\n",
    "    def titleLengthAnalysis(self):\n",
    "        \"\"\"This function calculates old and new titles based on median of the length of title\n",
    "        \"\"\"\n",
    "        title_lens = self.data_frame['Title'].str.len()\n",
    "        median_len = title_lens.median()\n",
    "        longer_length_data = self.data_frame[self.data_frame['Title'].str.len() >= median_len]\n",
    "        shorter_length_data = self.data_frame[self.data_frame['Title'].str.len() < median_len]\n",
    "        print('Total data points', len(self.data_frame))\n",
    "        print('Total data points with longer title', len(longer_length_data))\n",
    "        print('Total data points with shorter title', len(shorter_length_data))\n",
    "\n",
    "        # Box plots\n",
    "        fig, axes = plt.subplots(1, 2)\n",
    "        sns.boxplot(longer_length_data['Cites'],  ax=axes[0])\n",
    "        axes[0].set_title(\"Longer Data\")\n",
    "        sns.boxplot(shorter_length_data['Cites'],  ax=axes[1])\n",
    "        axes[1].set_title(\"Shorter Data\")\n",
    "        complete_path = f\"{os.path.dirname(os.path.abspath(os.getcwd()))}\\\\{config['OUTPUT_PATH']}\\\\Timeline\\\\{self.dirName}\"\n",
    "        plt.savefig(os.path.join(complete_path, f\"{self.dirName}_titleLength_boxPlot.png\"))\n",
    "        self.spinner.write(f'✔️ Figure saved')\n",
    "        \n",
    "\n",
    "        # Voilen plots\n",
    "        fig, axes = plt.subplots(1, 2)\n",
    "        sns.violinplot(longer_length_data['Cites'],  ax=axes[0])\n",
    "        axes[0].set_title(\"Longer Data\")\n",
    "        sns.violinplot(shorter_length_data['Cites'],  ax=axes[1])\n",
    "        axes[1].set_title(\"Shorter Data\")\n",
    "        plt.savefig(os.path.join(complete_path, f\"{self.dirName}_titleLength_violinPlot.png\"))\n",
    "        plt.show()\n",
    "        self.spinner.write(f'✔️ Figure saved')\n",
    "\n",
    "        # Summary of old and new\n",
    "        print(\"Longer Data Summary\")\n",
    "        print(longer_length_data['Cites'].describe())\n",
    "        print(\"Shorter Data Summary\")\n",
    "        print(shorter_length_data['Cites'].describe())\n",
    "\n",
    "        # Wilcoxon\n",
    "        w, p = wilcoxon(longer_length_data['Cites'])\n",
    "        print('Wilcoxon for longer')\n",
    "        print('W:', w, 'P:', p)\n",
    "        w, p = wilcoxon(shorter_length_data['Cites'])\n",
    "        print('Wilcoxon for shorter')\n",
    "        print('W:', w, 'P:', p)\n",
    "\n",
    "    def fourWaySplit(self):\n",
    "        \"\"\"This function splits the title in four parts based on the four quantiles.\n",
    "        \"\"\"\n",
    "        title_lens = self.data_frame['Title'].str.len()\n",
    "        q1 = self.data_frame[self.data_frame['Title'].str.len() == title_lens.quantile(0.25, interpolation='midpoint')]\n",
    "        q2 = self.data_frame[self.data_frame['Title'].str.len() > title_lens.quantile(0.25, interpolation='midpoint')]\n",
    "        q3 = self.data_frame[self.data_frame['Title'].str.len() <= title_lens.quantile(0.50,  interpolation='midpoint')]\n",
    "        q4 = self.data_frame[self.data_frame['Title'].str.len() > title_lens.quantile(0.75,  interpolation='midpoint')]\n",
    "        print('Total length of data:', len(self.data_frame))\n",
    "        print('Length of q1:', len(q1))\n",
    "        print('Length of q2:', len(q2))\n",
    "        print('Length of q3:', len(q3))\n",
    "        print('Length of q4:', len(q4))\n",
    "        \n",
    "        # Box plots\n",
    "        fig, axes = plt.subplots(1, 4)\n",
    "        sns.boxplot(q1['Cites'],  ax=axes[0])\n",
    "        axes[0].set_title(\"Q1 Data\")\n",
    "        sns.boxplot(q2['Cites'],  ax=axes[1])\n",
    "        axes[1].set_title(\"Q2 Data\")\n",
    "        sns.boxplot(q3['Cites'],  ax=axes[2])\n",
    "        axes[2].set_title(\"Q3 Data\")\n",
    "        sns.boxplot(q4['Cites'],  ax=axes[3])\n",
    "        axes[3].set_title(\"Q4 Data\")\n",
    "        complete_path = f\"{os.path.dirname(os.path.abspath(os.getcwd()))}\\\\{config['OUTPUT_PATH']}\\\\Timeline\\\\{self.dirName}\"\n",
    "        plt.savefig(os.path.join(complete_path, f\"{self.dirName}_FourwaySplit_boxPlot.png\"))\n",
    "        plt.show()\n",
    "        self.spinner.write(f'✔️ Figure saved')\n",
    "        \n",
    "        #Summary of data\n",
    "        print('Q1 Cites Summary:')\n",
    "        print(q1['Cites'].describe())\n",
    "        print('Q2 Cites Summary:')\n",
    "        print(q2['Cites'].describe())\n",
    "        print('Q3 Cites Summary:')\n",
    "        print(q3['Cites'].describe())\n",
    "        print('Q4 Cites Summary:')\n",
    "        print(q4['Cites'].describe())\n",
    "\n",
    "    def getTopArticles(self):\n",
    "        \"\"\"This function calculates top article based on the citation\n",
    "        \"\"\"\n",
    "        sorted_df = self.data_frame.sort_values(by=['Cites'],ascending=False) \n",
    "        combined = pd.DataFrame({'Title':sorted_df['Title_clean'], 'cites':sorted_df['Cites']})\n",
    "        print('Top 5 articles')\n",
    "        print(combined.head(5))\n",
    "    "
   ]
  },
  {
   "cell_type": "markdown",
   "id": "307be4a5",
   "metadata": {},
   "source": [
    "### Reddit"
   ]
  },
  {
   "cell_type": "code",
   "execution_count": null,
   "id": "cf0f7ec5",
   "metadata": {},
   "outputs": [],
   "source": [
    "reddit_data = readFile(config['REDDIT_DATA_CSV'], config['STORAGE_PATH'])"
   ]
  },
  {
   "cell_type": "code",
   "execution_count": null,
   "id": "0d4085da",
   "metadata": {},
   "outputs": [],
   "source": [
    "reddit_timeline = TimelineAndPopularity(reddit_data)"
   ]
  },
  {
   "cell_type": "code",
   "execution_count": null,
   "id": "8c2398b9",
   "metadata": {},
   "outputs": [],
   "source": [
    "reddit_timeline.createOutputDir('Reddit')"
   ]
  },
  {
   "cell_type": "code",
   "execution_count": null,
   "id": "6afa095c",
   "metadata": {},
   "outputs": [],
   "source": [
    "reddit_timeline.popularityByYears()"
   ]
  },
  {
   "cell_type": "code",
   "execution_count": null,
   "id": "dabfd649",
   "metadata": {},
   "outputs": [],
   "source": [
    "reddit_timeline.dailyTrend()"
   ]
  },
  {
   "cell_type": "code",
   "execution_count": null,
   "id": "861ccb55",
   "metadata": {},
   "outputs": [],
   "source": [
    "reddit_timeline.citationAnalysis()"
   ]
  },
  {
   "cell_type": "code",
   "execution_count": null,
   "id": "3f1271a6",
   "metadata": {},
   "outputs": [],
   "source": [
    "reddit_timeline.citationSummary()"
   ]
  },
  {
   "cell_type": "code",
   "execution_count": null,
   "id": "91a4e0d1",
   "metadata": {},
   "outputs": [],
   "source": [
    "reddit_timeline.citationViolinPlot()"
   ]
  },
  {
   "cell_type": "code",
   "execution_count": null,
   "id": "1fb68d97",
   "metadata": {},
   "outputs": [],
   "source": [
    "reddit_timeline.plotOldvsNewCitations()"
   ]
  },
  {
   "cell_type": "code",
   "execution_count": null,
   "id": "c2f8734d",
   "metadata": {},
   "outputs": [],
   "source": [
    "reddit_timeline.titleLengthAnalysis()"
   ]
  },
  {
   "cell_type": "code",
   "execution_count": null,
   "id": "2238f22b",
   "metadata": {},
   "outputs": [],
   "source": [
    "reddit_timeline.fourWaySplit()"
   ]
  },
  {
   "cell_type": "code",
   "execution_count": null,
   "id": "90a216d9",
   "metadata": {},
   "outputs": [],
   "source": [
    "reddit_timeline.getTopArticles()"
   ]
  },
  {
   "cell_type": "markdown",
   "id": "d39fcb45",
   "metadata": {},
   "source": [
    "### Stackoverflow"
   ]
  },
  {
   "cell_type": "code",
   "execution_count": null,
   "id": "015cd6ff",
   "metadata": {},
   "outputs": [],
   "source": [
    "stackoverflow_data = readFile(config['STACKOVERFLOW_DATA_CSV'], config['STORAGE_PATH'])"
   ]
  },
  {
   "cell_type": "code",
   "execution_count": null,
   "id": "3dc7b1f0",
   "metadata": {},
   "outputs": [],
   "source": [
    "stackoverflow_timeline = TimelineAndPopularity(stackoverflow_data)"
   ]
  },
  {
   "cell_type": "code",
   "execution_count": null,
   "id": "cea01a66",
   "metadata": {},
   "outputs": [],
   "source": [
    "stackoverflow_timeline.createOutputDir('Stackoverflow')"
   ]
  },
  {
   "cell_type": "code",
   "execution_count": null,
   "id": "725e71cc",
   "metadata": {},
   "outputs": [],
   "source": [
    "stackoverflow_timeline.popularityByYears()"
   ]
  },
  {
   "cell_type": "code",
   "execution_count": null,
   "id": "93961321",
   "metadata": {},
   "outputs": [],
   "source": [
    "stackoverflow_timeline.dailyTrend()"
   ]
  },
  {
   "cell_type": "code",
   "execution_count": null,
   "id": "89098bb0",
   "metadata": {},
   "outputs": [],
   "source": [
    "stackoverflow_timeline.citationAnalysis()"
   ]
  },
  {
   "cell_type": "code",
   "execution_count": null,
   "id": "b80d259c",
   "metadata": {},
   "outputs": [],
   "source": [
    "stackoverflow_timeline.citationSummary()"
   ]
  },
  {
   "cell_type": "code",
   "execution_count": null,
   "id": "4d187819",
   "metadata": {},
   "outputs": [],
   "source": [
    "stackoverflow_timeline.citationViolinPlot()"
   ]
  },
  {
   "cell_type": "code",
   "execution_count": null,
   "id": "2d1bcb9f",
   "metadata": {},
   "outputs": [],
   "source": [
    "stackoverflow_timeline.plotOldvsNewCitations()"
   ]
  },
  {
   "cell_type": "code",
   "execution_count": null,
   "id": "7fd0e7a9",
   "metadata": {},
   "outputs": [],
   "source": [
    "stackoverflow_timeline.titleLengthAnalysis()"
   ]
  },
  {
   "cell_type": "code",
   "execution_count": null,
   "id": "2fa6d125",
   "metadata": {},
   "outputs": [],
   "source": [
    "stackoverflow_timeline.fourWaySplit()"
   ]
  },
  {
   "cell_type": "code",
   "execution_count": null,
   "id": "cc2d90fd",
   "metadata": {},
   "outputs": [],
   "source": [
    "stackoverflow_timeline.getTopArticles()"
   ]
  },
  {
   "cell_type": "markdown",
   "id": "40eba7cf",
   "metadata": {},
   "source": [
    "### Scopus"
   ]
  },
  {
   "cell_type": "code",
   "execution_count": null,
   "id": "e6663007",
   "metadata": {},
   "outputs": [],
   "source": [
    "scopus_data = readFile(config['SCOPUS_DATA_CSV'], config['STORAGE_PATH'])"
   ]
  },
  {
   "cell_type": "code",
   "execution_count": null,
   "id": "ab370de7",
   "metadata": {},
   "outputs": [],
   "source": [
    "scopus_timeline = TimelineAndPopularity(scopus_data)"
   ]
  },
  {
   "cell_type": "code",
   "execution_count": null,
   "id": "8105916a",
   "metadata": {},
   "outputs": [],
   "source": [
    "scopus_timeline.createOutputDir('Scopus')"
   ]
  },
  {
   "cell_type": "code",
   "execution_count": null,
   "id": "52caa08f",
   "metadata": {},
   "outputs": [],
   "source": [
    "scopus_timeline.popularityByYears()"
   ]
  },
  {
   "cell_type": "code",
   "execution_count": null,
   "id": "3b9ef714",
   "metadata": {},
   "outputs": [],
   "source": [
    "scopus_timeline.dailyTrend()"
   ]
  },
  {
   "cell_type": "code",
   "execution_count": null,
   "id": "540c549c",
   "metadata": {},
   "outputs": [],
   "source": [
    "scopus_timeline.citationAnalysis()"
   ]
  },
  {
   "cell_type": "code",
   "execution_count": null,
   "id": "8a1f16ca",
   "metadata": {},
   "outputs": [],
   "source": [
    "scopus_timeline.citationSummary()"
   ]
  },
  {
   "cell_type": "code",
   "execution_count": null,
   "id": "584ff934",
   "metadata": {},
   "outputs": [],
   "source": [
    "scopus_timeline.citationViolinPlot()"
   ]
  },
  {
   "cell_type": "code",
   "execution_count": null,
   "id": "7cd38d6b",
   "metadata": {},
   "outputs": [],
   "source": [
    "scopus_timeline.plotOldvsNewCitations()"
   ]
  },
  {
   "cell_type": "code",
   "execution_count": null,
   "id": "7d946414",
   "metadata": {},
   "outputs": [],
   "source": [
    "scopus_timeline.titleLengthAnalysis()"
   ]
  },
  {
   "cell_type": "code",
   "execution_count": null,
   "id": "61f877a9",
   "metadata": {},
   "outputs": [],
   "source": [
    "scopus_timeline.fourWaySplit()"
   ]
  },
  {
   "cell_type": "code",
   "execution_count": null,
   "id": "70f528cb",
   "metadata": {},
   "outputs": [],
   "source": [
    "scopus_timeline.getTopArticles()"
   ]
  }
 ],
 "metadata": {
  "kernelspec": {
   "display_name": "Python 3 (ipykernel)",
   "language": "python",
   "name": "python3"
  },
  "language_info": {
   "codemirror_mode": {
    "name": "ipython",
    "version": 3
   },
   "file_extension": ".py",
   "mimetype": "text/x-python",
   "name": "python",
   "nbconvert_exporter": "python",
   "pygments_lexer": "ipython3",
   "version": "3.8.13"
  }
 },
 "nbformat": 4,
 "nbformat_minor": 5
}
